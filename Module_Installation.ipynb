{
 "cells": [
  {
   "cell_type": "code",
   "execution_count": null,
   "id": "b92748c7",
   "metadata": {},
   "outputs": [],
   "source": [
    "pip install pandas numpy seaborn matplotlib scipy scikit-learn keras "
   ]
  }
 ],
 "metadata": {
  "language_info": {
   "name": "python"
  }
 },
 "nbformat": 4,
 "nbformat_minor": 5
}
